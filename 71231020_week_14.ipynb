{
  "nbformat": 4,
  "nbformat_minor": 0,
  "metadata": {
    "colab": {
      "provenance": []
    },
    "kernelspec": {
      "name": "python3",
      "display_name": "Python 3"
    },
    "language_info": {
      "name": "python"
    }
  },
  "cells": [
    {
      "cell_type": "markdown",
      "source": [
        "soal 1"
      ],
      "metadata": {
        "id": "anEBCD1f1DQT"
      }
    },
    {
      "cell_type": "code",
      "source": [
        "def prima(number, end=None):\n",
        "    if number < 2:\n",
        "        return False\n",
        "    if end is None:\n",
        "        end = number -1\n",
        "    if end == 1 :\n",
        "        return True\n",
        "    if number % end == 0:\n",
        "        return False\n",
        "    return prima(number, end-1)\n",
        "number = int(input(\"masukkan angka anda:\"))\n",
        "if prima(number):\n",
        "    print(\"bilangan prima\")\n",
        "else:\n",
        "    print(\"bukan bilangan prima\")"
      ],
      "metadata": {
        "colab": {
          "base_uri": "https://localhost:8080/"
        },
        "id": "wUy13Puf1KDQ",
        "outputId": "b35af545-399a-414a-c2a1-79509efc06fe"
      },
      "execution_count": 1,
      "outputs": [
        {
          "output_type": "stream",
          "name": "stdout",
          "text": [
            "masukkan angka anda:9\n",
            "bukan bilangan prima\n"
          ]
        }
      ]
    },
    {
      "cell_type": "markdown",
      "source": [
        "soal 2"
      ],
      "metadata": {
        "id": "0CZ4PmZt1bfq"
      }
    },
    {
      "cell_type": "code",
      "source": [
        "def palindorme(kal):\n",
        "    if len(kal) <= 1:\n",
        "        return True\n",
        "    else:\n",
        "        for chr in kal:\n",
        "            if chr.isalnum():\n",
        "                if chr.lower() == kal[-1].lower():\n",
        "                    return palindorme(kal[1:-1])\n",
        "                else:\n",
        "                    return False\n",
        "        return True\n",
        "kal = input(\"kalimat:\")\n",
        "if palindorme(kal):\n",
        "    print(\"kalimat ini palindrom\")\n",
        "else:\n",
        "    print(\"kalimat ini bukan\")"
      ],
      "metadata": {
        "colab": {
          "base_uri": "https://localhost:8080/"
        },
        "id": "pWVXTgbF1ck7",
        "outputId": "4f14886f-8a2b-4e26-abc2-d641bbd16f25"
      },
      "execution_count": 3,
      "outputs": [
        {
          "output_type": "stream",
          "name": "stdout",
          "text": [
            "kalimat:ada\n",
            "kalimat ini palindrom\n"
          ]
        }
      ]
    },
    {
      "cell_type": "markdown",
      "source": [
        "soal 3"
      ],
      "metadata": {
        "id": "rXHSgoHc1zZz"
      }
    },
    {
      "cell_type": "code",
      "source": [
        "def ganjil(bilangan, sum = 0):\n",
        "    if bilangan < 1:\n",
        "        return sum\n",
        "    else:\n",
        "        return ganjil(bilangan - 1, sum + (2 * bilangan -1))\n",
        "\n",
        "bilangan = int(input(\"jumlah deretan ganjil:\"))\n",
        "print(f\"hasil: {ganjil(bilangan)}\")"
      ],
      "metadata": {
        "colab": {
          "base_uri": "https://localhost:8080/"
        },
        "id": "qBmEO5y510Pk",
        "outputId": "dfae863d-9ed9-4026-c854-95ed874cb778"
      },
      "execution_count": 4,
      "outputs": [
        {
          "output_type": "stream",
          "name": "stdout",
          "text": [
            "jumlah deretan ganjil:9\n",
            "hasil: 81\n"
          ]
        }
      ]
    },
    {
      "cell_type": "markdown",
      "source": [
        "soal 4"
      ],
      "metadata": {
        "id": "bhD9g9hj141E"
      }
    },
    {
      "cell_type": "code",
      "source": [
        "def total(bilangan, sum = 0):\n",
        "    if bilangan == \"\":\n",
        "        return sum\n",
        "    if bilangan[0].isdigit():\n",
        "        return total(bilangan[1:], sum + int(bilangan[0]))\n",
        "    else:\n",
        "        return total(bilangan[1:], sum)\n",
        "bilangan = input(\"kalimat anda:\")\n",
        "if total(bilangan):\n",
        "    print(\"jumlah:\", total(bilangan))"
      ],
      "metadata": {
        "colab": {
          "base_uri": "https://localhost:8080/"
        },
        "id": "ANhH26oQ2DsO",
        "outputId": "16aaa39f-d508-4a13-98aa-7977972f16ef"
      },
      "execution_count": 6,
      "outputs": [
        {
          "output_type": "stream",
          "name": "stdout",
          "text": [
            "kalimat anda:cafet22\n",
            "jumlah: 4\n"
          ]
        }
      ]
    },
    {
      "cell_type": "markdown",
      "source": [
        "soal 5"
      ],
      "metadata": {
        "id": "s2AkAGn-2IlT"
      }
    },
    {
      "cell_type": "code",
      "source": [
        "def gabungan(n, p):\n",
        "    if p == 0 or p == n:\n",
        "        return 1\n",
        "    if p > n:\n",
        "        return 0\n",
        "    else:\n",
        "        satu = gabungan(n -1, p -1)\n",
        "        dua = gabungan(n -1,p)\n",
        "        sum = satu + dua\n",
        "        return sum\n",
        "n = int(input(\"masukan angka 1:\"))\n",
        "p = int(input('masukkan angka 2:'))\n",
        "print(f\"hasilnya: {gabungan(n, p)}\")\n"
      ],
      "metadata": {
        "colab": {
          "base_uri": "https://localhost:8080/"
        },
        "id": "ULr6KrM_2Jsb",
        "outputId": "7634f747-8da9-4622-9693-4042d7c21e51"
      },
      "execution_count": 7,
      "outputs": [
        {
          "output_type": "stream",
          "name": "stdout",
          "text": [
            "masukan angka 1:4\n",
            "masukkan angka 2:5\n",
            "hasilnya: 0\n"
          ]
        }
      ]
    }
  ]
}